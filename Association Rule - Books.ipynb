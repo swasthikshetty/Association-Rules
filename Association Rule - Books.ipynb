{
 "cells": [
  {
   "cell_type": "markdown",
   "metadata": {},
   "source": [
    "# Import Library"
   ]
  },
  {
   "cell_type": "code",
   "execution_count": 1,
   "metadata": {},
   "outputs": [],
   "source": [
    "import pandas as pd\n",
    "import matplotlib.pyplot as plt\n",
    "import seaborn as sns\n",
    "import numpy as np\n",
    "from mlxtend.frequent_patterns import apriori, association_rules"
   ]
  },
  {
   "cell_type": "markdown",
   "metadata": {},
   "source": [
    "# Read file into DataFrame"
   ]
  },
  {
   "cell_type": "code",
   "execution_count": 3,
   "metadata": {},
   "outputs": [
    {
     "data": {
      "text/html": [
       "<div>\n",
       "<style scoped>\n",
       "    .dataframe tbody tr th:only-of-type {\n",
       "        vertical-align: middle;\n",
       "    }\n",
       "\n",
       "    .dataframe tbody tr th {\n",
       "        vertical-align: top;\n",
       "    }\n",
       "\n",
       "    .dataframe thead th {\n",
       "        text-align: right;\n",
       "    }\n",
       "</style>\n",
       "<table border=\"1\" class=\"dataframe\">\n",
       "  <thead>\n",
       "    <tr style=\"text-align: right;\">\n",
       "      <th></th>\n",
       "      <th>ChildBks</th>\n",
       "      <th>YouthBks</th>\n",
       "      <th>CookBks</th>\n",
       "      <th>DoItYBks</th>\n",
       "      <th>RefBks</th>\n",
       "      <th>ArtBks</th>\n",
       "      <th>GeogBks</th>\n",
       "      <th>ItalCook</th>\n",
       "      <th>ItalAtlas</th>\n",
       "      <th>ItalArt</th>\n",
       "      <th>Florence</th>\n",
       "    </tr>\n",
       "  </thead>\n",
       "  <tbody>\n",
       "    <tr>\n",
       "      <th>0</th>\n",
       "      <td>0</td>\n",
       "      <td>1</td>\n",
       "      <td>0</td>\n",
       "      <td>1</td>\n",
       "      <td>0</td>\n",
       "      <td>0</td>\n",
       "      <td>1</td>\n",
       "      <td>0</td>\n",
       "      <td>0</td>\n",
       "      <td>0</td>\n",
       "      <td>0</td>\n",
       "    </tr>\n",
       "    <tr>\n",
       "      <th>1</th>\n",
       "      <td>1</td>\n",
       "      <td>0</td>\n",
       "      <td>0</td>\n",
       "      <td>0</td>\n",
       "      <td>0</td>\n",
       "      <td>0</td>\n",
       "      <td>0</td>\n",
       "      <td>0</td>\n",
       "      <td>0</td>\n",
       "      <td>0</td>\n",
       "      <td>0</td>\n",
       "    </tr>\n",
       "    <tr>\n",
       "      <th>2</th>\n",
       "      <td>0</td>\n",
       "      <td>0</td>\n",
       "      <td>0</td>\n",
       "      <td>0</td>\n",
       "      <td>0</td>\n",
       "      <td>0</td>\n",
       "      <td>0</td>\n",
       "      <td>0</td>\n",
       "      <td>0</td>\n",
       "      <td>0</td>\n",
       "      <td>0</td>\n",
       "    </tr>\n",
       "    <tr>\n",
       "      <th>3</th>\n",
       "      <td>1</td>\n",
       "      <td>1</td>\n",
       "      <td>1</td>\n",
       "      <td>0</td>\n",
       "      <td>1</td>\n",
       "      <td>0</td>\n",
       "      <td>1</td>\n",
       "      <td>0</td>\n",
       "      <td>0</td>\n",
       "      <td>0</td>\n",
       "      <td>0</td>\n",
       "    </tr>\n",
       "    <tr>\n",
       "      <th>4</th>\n",
       "      <td>0</td>\n",
       "      <td>0</td>\n",
       "      <td>1</td>\n",
       "      <td>0</td>\n",
       "      <td>0</td>\n",
       "      <td>0</td>\n",
       "      <td>1</td>\n",
       "      <td>0</td>\n",
       "      <td>0</td>\n",
       "      <td>0</td>\n",
       "      <td>0</td>\n",
       "    </tr>\n",
       "  </tbody>\n",
       "</table>\n",
       "</div>"
      ],
      "text/plain": [
       "   ChildBks  YouthBks  CookBks  DoItYBks  RefBks  ArtBks  GeogBks  ItalCook  \\\n",
       "0         0         1        0         1       0       0        1         0   \n",
       "1         1         0        0         0       0       0        0         0   \n",
       "2         0         0        0         0       0       0        0         0   \n",
       "3         1         1        1         0       1       0        1         0   \n",
       "4         0         0        1         0       0       0        1         0   \n",
       "\n",
       "   ItalAtlas  ItalArt  Florence  \n",
       "0          0        0         0  \n",
       "1          0        0         0  \n",
       "2          0        0         0  \n",
       "3          0        0         0  \n",
       "4          0        0         0  "
      ]
     },
     "execution_count": 3,
     "metadata": {},
     "output_type": "execute_result"
    }
   ],
   "source": [
    "book = pd.read_csv(\"C:/Users/Swathi/Desktop/Excelr Classes/Assignments/8.Association Rules/book.csv\")\n",
    "book.head()"
   ]
  },
  {
   "cell_type": "markdown",
   "metadata": {},
   "source": [
    "# data understanding"
   ]
  },
  {
   "cell_type": "code",
   "execution_count": 10,
   "metadata": {},
   "outputs": [
    {
     "name": "stdout",
     "output_type": "stream",
     "text": [
      "Number of rows:  2000\n",
      "Number of columns:  11\n",
      "Number of rows and columns:  (2000, 11)\n",
      "Number of elements:  22000\n"
     ]
    }
   ],
   "source": [
    "print(\"Number of rows: \", len(book))\n",
    "print(\"Number of columns: \",len(book.columns))\n",
    "print(\"Number of rows and columns: \",book.shape)\n",
    "print(\"Number of elements: \",book.size)\n",
    "# print(\"Number of rows, columns, etc: \", book.info())\n",
    "# print (\"Data type:\\n\",book.dtypes)\n",
    "# print (\"Identify outliers & other info like Mean,median,max,min etc:\\n\\n\",book.describe())"
   ]
  },
  {
   "cell_type": "code",
   "execution_count": 20,
   "metadata": {},
   "outputs": [
    {
     "name": "stdout",
     "output_type": "stream",
     "text": [
      "---- ChildBks  ---\n",
      "0    1154\n",
      "1     846\n",
      "Name: ChildBks, dtype: int64\n",
      "---- YouthBks  ---\n",
      "0    1505\n",
      "1     495\n",
      "Name: YouthBks, dtype: int64\n",
      "---- CookBks  ---\n",
      "0    1138\n",
      "1     862\n",
      "Name: CookBks, dtype: int64\n",
      "---- DoItYBks  ---\n",
      "0    1436\n",
      "1     564\n",
      "Name: DoItYBks, dtype: int64\n",
      "---- RefBks  ---\n",
      "0    1571\n",
      "1     429\n",
      "Name: RefBks, dtype: int64\n",
      "---- ArtBks  ---\n",
      "0    1518\n",
      "1     482\n",
      "Name: ArtBks, dtype: int64\n",
      "---- GeogBks  ---\n",
      "0    1448\n",
      "1     552\n",
      "Name: GeogBks, dtype: int64\n",
      "---- ItalCook  ---\n",
      "0    1773\n",
      "1     227\n",
      "Name: ItalCook, dtype: int64\n",
      "---- ItalAtlas  ---\n",
      "0    1926\n",
      "1      74\n",
      "Name: ItalAtlas, dtype: int64\n",
      "---- ItalArt  ---\n",
      "0    1903\n",
      "1      97\n",
      "Name: ItalArt, dtype: int64\n",
      "---- Florence  ---\n",
      "0    1783\n",
      "1     217\n",
      "Name: Florence, dtype: int64\n"
     ]
    }
   ],
   "source": [
    "book = pd.DataFrame(data=book)\n",
    "for c in book.columns:\n",
    "    print (\"----\",c,\" ---\")\n",
    "    print (book[c].value_counts())"
   ]
  },
  {
   "cell_type": "code",
   "execution_count": 35,
   "metadata": {},
   "outputs": [
    {
     "data": {
      "text/plain": [
       "ChildBks     846\n",
       "YouthBks     495\n",
       "CookBks      862\n",
       "DoItYBks     564\n",
       "RefBks       429\n",
       "ArtBks       482\n",
       "GeogBks      552\n",
       "ItalCook     227\n",
       "ItalAtlas     74\n",
       "ItalArt       97\n",
       "Florence     217\n",
       "dtype: int64"
      ]
     },
     "execution_count": 35,
     "metadata": {},
     "output_type": "execute_result"
    }
   ],
   "source": [
    "# Frequency of books is:\n",
    "book.sum(axis=0) "
   ]
  },
  {
   "cell_type": "code",
   "execution_count": 83,
   "metadata": {},
   "outputs": [
    {
     "data": {
      "image/png": "[encoded data removed]",
      "text/plain": [
       "<Figure size 432x288 with 1 Axes>"
      ]
     },
     "metadata": {
      "needs_background": "light"
     },
     "output_type": "display_data"
    }
   ],
   "source": [
    "# Visualize movie frequency\n",
    "plt.bar (book.columns ,book.sum(axis=0))\n",
    "plt.xticks(rotation = 90)\n",
    "plt.xlabel(\"Movies\")\n",
    "plt.ylabel(\"Frequency\")\n",
    "plt.show()"
   ]
  },
  {
   "cell_type": "markdown",
   "metadata": {},
   "source": [
    "# Model Processing"
   ]
  },
  {
   "cell_type": "code",
   "execution_count": 87,
   "metadata": {},
   "outputs": [
    {
     "name": "stdout",
     "output_type": "stream",
     "text": [
      "Raw Data:\n",
      "    support    itemsets\n",
      "0   0.4230  (ChildBks)\n",
      "1   0.2475  (YouthBks)\n",
      "2   0.4310   (CookBks)\n",
      "3   0.2820  (DoItYBks)\n",
      "4   0.2145    (RefBks)\n",
      "\n",
      "Sorted as per Support value:\n",
      "     support             itemsets\n",
      "2     0.431            (CookBks)\n",
      "0     0.423           (ChildBks)\n",
      "3     0.282           (DoItYBks)\n",
      "6     0.276            (GeogBks)\n",
      "12    0.256  (CookBks, ChildBks)\n"
     ]
    }
   ],
   "source": [
    "# Perform Association rule mining\n",
    "\n",
    "Book_Sales = apriori(book, min_support=0.005, max_len=2,use_colnames = True)\n",
    "print(\"Raw Data:\\n\",Book_Sales.head())\n",
    "\n",
    "# Sort decending order based on support  \n",
    "Book_Sales.sort_values('support',ascending = False,inplace=True)\n",
    "print(\"\\nSorted as per Support value:\\n\",Book_Sales.head())"
   ]
  },
  {
   "cell_type": "code",
   "execution_count": 88,
   "metadata": {},
   "outputs": [
    {
     "data": {
      "text/html": [
       "<div>\n",
       "<style scoped>\n",
       "    .dataframe tbody tr th:only-of-type {\n",
       "        vertical-align: middle;\n",
       "    }\n",
       "\n",
       "    .dataframe tbody tr th {\n",
       "        vertical-align: top;\n",
       "    }\n",
       "\n",
       "    .dataframe thead th {\n",
       "        text-align: right;\n",
       "    }\n",
       "</style>\n",
       "<table border=\"1\" class=\"dataframe\">\n",
       "  <thead>\n",
       "    <tr style=\"text-align: right;\">\n",
       "      <th></th>\n",
       "      <th>antecedents</th>\n",
       "      <th>consequents</th>\n",
       "      <th>antecedent support</th>\n",
       "      <th>consequent support</th>\n",
       "      <th>support</th>\n",
       "      <th>confidence</th>\n",
       "      <th>lift</th>\n",
       "      <th>leverage</th>\n",
       "      <th>conviction</th>\n",
       "    </tr>\n",
       "  </thead>\n",
       "  <tbody>\n",
       "    <tr>\n",
       "      <th>103</th>\n",
       "      <td>(ItalAtlas)</td>\n",
       "      <td>(ItalArt)</td>\n",
       "      <td>0.0370</td>\n",
       "      <td>0.0485</td>\n",
       "      <td>0.0165</td>\n",
       "      <td>0.445946</td>\n",
       "      <td>9.194762</td>\n",
       "      <td>0.014706</td>\n",
       "      <td>1.717341</td>\n",
       "    </tr>\n",
       "    <tr>\n",
       "      <th>102</th>\n",
       "      <td>(ItalArt)</td>\n",
       "      <td>(ItalAtlas)</td>\n",
       "      <td>0.0485</td>\n",
       "      <td>0.0370</td>\n",
       "      <td>0.0165</td>\n",
       "      <td>0.340206</td>\n",
       "      <td>9.194762</td>\n",
       "      <td>0.014706</td>\n",
       "      <td>1.459547</td>\n",
       "    </tr>\n",
       "    <tr>\n",
       "      <th>68</th>\n",
       "      <td>(ItalCook)</td>\n",
       "      <td>(ItalArt)</td>\n",
       "      <td>0.1135</td>\n",
       "      <td>0.0485</td>\n",
       "      <td>0.0375</td>\n",
       "      <td>0.330396</td>\n",
       "      <td>6.812298</td>\n",
       "      <td>0.031995</td>\n",
       "      <td>1.420990</td>\n",
       "    </tr>\n",
       "    <tr>\n",
       "      <th>69</th>\n",
       "      <td>(ItalArt)</td>\n",
       "      <td>(ItalCook)</td>\n",
       "      <td>0.0485</td>\n",
       "      <td>0.1135</td>\n",
       "      <td>0.0375</td>\n",
       "      <td>0.773196</td>\n",
       "      <td>6.812298</td>\n",
       "      <td>0.031995</td>\n",
       "      <td>3.908659</td>\n",
       "    </tr>\n",
       "    <tr>\n",
       "      <th>87</th>\n",
       "      <td>(ItalAtlas)</td>\n",
       "      <td>(ItalCook)</td>\n",
       "      <td>0.0370</td>\n",
       "      <td>0.1135</td>\n",
       "      <td>0.0230</td>\n",
       "      <td>0.621622</td>\n",
       "      <td>5.476842</td>\n",
       "      <td>0.018800</td>\n",
       "      <td>2.342893</td>\n",
       "    </tr>\n",
       "    <tr>\n",
       "      <th>...</th>\n",
       "      <td>...</td>\n",
       "      <td>...</td>\n",
       "      <td>...</td>\n",
       "      <td>...</td>\n",
       "      <td>...</td>\n",
       "      <td>...</td>\n",
       "      <td>...</td>\n",
       "      <td>...</td>\n",
       "      <td>...</td>\n",
       "    </tr>\n",
       "    <tr>\n",
       "      <th>59</th>\n",
       "      <td>(ChildBks)</td>\n",
       "      <td>(Florence)</td>\n",
       "      <td>0.4230</td>\n",
       "      <td>0.1085</td>\n",
       "      <td>0.0485</td>\n",
       "      <td>0.114657</td>\n",
       "      <td>1.056748</td>\n",
       "      <td>0.002605</td>\n",
       "      <td>1.006955</td>\n",
       "    </tr>\n",
       "    <tr>\n",
       "      <th>74</th>\n",
       "      <td>(DoItYBks)</td>\n",
       "      <td>(Florence)</td>\n",
       "      <td>0.2820</td>\n",
       "      <td>0.1085</td>\n",
       "      <td>0.0315</td>\n",
       "      <td>0.111702</td>\n",
       "      <td>1.029513</td>\n",
       "      <td>0.000903</td>\n",
       "      <td>1.003605</td>\n",
       "    </tr>\n",
       "    <tr>\n",
       "      <th>75</th>\n",
       "      <td>(Florence)</td>\n",
       "      <td>(DoItYBks)</td>\n",
       "      <td>0.1085</td>\n",
       "      <td>0.2820</td>\n",
       "      <td>0.0315</td>\n",
       "      <td>0.290323</td>\n",
       "      <td>1.029513</td>\n",
       "      <td>0.000903</td>\n",
       "      <td>1.011727</td>\n",
       "    </tr>\n",
       "    <tr>\n",
       "      <th>60</th>\n",
       "      <td>(CookBks)</td>\n",
       "      <td>(Florence)</td>\n",
       "      <td>0.4310</td>\n",
       "      <td>0.1085</td>\n",
       "      <td>0.0475</td>\n",
       "      <td>0.110209</td>\n",
       "      <td>1.015749</td>\n",
       "      <td>0.000737</td>\n",
       "      <td>1.001920</td>\n",
       "    </tr>\n",
       "    <tr>\n",
       "      <th>61</th>\n",
       "      <td>(Florence)</td>\n",
       "      <td>(CookBks)</td>\n",
       "      <td>0.1085</td>\n",
       "      <td>0.4310</td>\n",
       "      <td>0.0475</td>\n",
       "      <td>0.437788</td>\n",
       "      <td>1.015749</td>\n",
       "      <td>0.000737</td>\n",
       "      <td>1.012074</td>\n",
       "    </tr>\n",
       "  </tbody>\n",
       "</table>\n",
       "<p>108 rows × 9 columns</p>\n",
       "</div>"
      ],
      "text/plain": [
       "     antecedents  consequents  antecedent support  consequent support  \\\n",
       "103  (ItalAtlas)    (ItalArt)              0.0370              0.0485   \n",
       "102    (ItalArt)  (ItalAtlas)              0.0485              0.0370   \n",
       "68    (ItalCook)    (ItalArt)              0.1135              0.0485   \n",
       "69     (ItalArt)   (ItalCook)              0.0485              0.1135   \n",
       "87   (ItalAtlas)   (ItalCook)              0.0370              0.1135   \n",
       "..           ...          ...                 ...                 ...   \n",
       "59    (ChildBks)   (Florence)              0.4230              0.1085   \n",
       "74    (DoItYBks)   (Florence)              0.2820              0.1085   \n",
       "75    (Florence)   (DoItYBks)              0.1085              0.2820   \n",
       "60     (CookBks)   (Florence)              0.4310              0.1085   \n",
       "61    (Florence)    (CookBks)              0.1085              0.4310   \n",
       "\n",
       "     support  confidence      lift  leverage  conviction  \n",
       "103   0.0165    0.445946  9.194762  0.014706    1.717341  \n",
       "102   0.0165    0.340206  9.194762  0.014706    1.459547  \n",
       "68    0.0375    0.330396  6.812298  0.031995    1.420990  \n",
       "69    0.0375    0.773196  6.812298  0.031995    3.908659  \n",
       "87    0.0230    0.621622  5.476842  0.018800    2.342893  \n",
       "..       ...         ...       ...       ...         ...  \n",
       "59    0.0485    0.114657  1.056748  0.002605    1.006955  \n",
       "74    0.0315    0.111702  1.029513  0.000903    1.003605  \n",
       "75    0.0315    0.290323  1.029513  0.000903    1.011727  \n",
       "60    0.0475    0.110209  1.015749  0.000737    1.001920  \n",
       "61    0.0475    0.437788  1.015749  0.000737    1.012074  \n",
       "\n",
       "[108 rows x 9 columns]"
      ]
     },
     "execution_count": 88,
     "metadata": {},
     "output_type": "execute_result"
    }
   ],
   "source": [
    "rules = association_rules(Book_Sales, metric=\"lift\", min_threshold=1)\n",
    "rules.sort_values('lift',ascending = False,inplace=True)\n",
    "rules"
   ]
  },
  {
   "cell_type": "code",
   "execution_count": 89,
   "metadata": {},
   "outputs": [
    {
     "data": {
      "image/png": "[encoded data removed]",
      "text/plain": [
       "<Figure size 432x288 with 1 Axes>"
      ]
     },
     "metadata": {
      "needs_background": "light"
     },
     "output_type": "display_data"
    }
   ],
   "source": [
    "sns.scatterplot(x=rules['support'],y=rules['confidence'], data=rules)\n",
    "plt.title(\"Association Rule\")\n",
    "plt.show()"
   ]
  },
  {
   "cell_type": "code",
   "execution_count": 90,
   "metadata": {},
   "outputs": [
    {
     "data": {
      "image/png": "[encoded data removed]",
      "text/plain": [
       "<Figure size 432x288 with 1 Axes>"
      ]
     },
     "metadata": {
      "needs_background": "light"
     },
     "output_type": "display_data"
    }
   ],
   "source": [
    "# Box plot to visuzlize lift\n",
    "sns.boxplot(rules['lift'], data=rules,orient='v')\n",
    "plt.show()"
   ]
  },
  {
   "cell_type": "markdown",
   "metadata": {},
   "source": [
    "# ii. with different values of support, confidence & length in Apriori"
   ]
  },
  {
   "cell_type": "code",
   "execution_count": 91,
   "metadata": {},
   "outputs": [
    {
     "name": "stdout",
     "output_type": "stream",
     "text": [
      "Raw Data:\n",
      "    support    itemsets\n",
      "0   0.4230  (ChildBks)\n",
      "1   0.2475  (YouthBks)\n",
      "2   0.4310   (CookBks)\n",
      "3   0.2820  (DoItYBks)\n",
      "4   0.2145    (RefBks)\n",
      "\n",
      "Sorted as per Support value:\n",
      "     support             itemsets\n",
      "2     0.431            (CookBks)\n",
      "0     0.423           (ChildBks)\n",
      "3     0.282           (DoItYBks)\n",
      "6     0.276            (GeogBks)\n",
      "12    0.256  (CookBks, ChildBks)\n"
     ]
    }
   ],
   "source": [
    "# Perform Association rule mining\n",
    "\n",
    "Book_Sales1 = apriori(book, min_support=0.003, max_len=4,use_colnames = True)\n",
    "print(\"Raw Data:\\n\",Book_Sales1.head())\n",
    "\n",
    "# Sort decending order based on support  \n",
    "Book_Sales1.sort_values('support',ascending = False,inplace=True)\n",
    "print(\"\\nSorted as per Support value:\\n\",Book_Sales1.head())"
   ]
  },
  {
   "cell_type": "code",
   "execution_count": 94,
   "metadata": {},
   "outputs": [
    {
     "data": {
      "text/html": [
       "<div>\n",
       "<style scoped>\n",
       "    .dataframe tbody tr th:only-of-type {\n",
       "        vertical-align: middle;\n",
       "    }\n",
       "\n",
       "    .dataframe tbody tr th {\n",
       "        vertical-align: top;\n",
       "    }\n",
       "\n",
       "    .dataframe thead th {\n",
       "        text-align: right;\n",
       "    }\n",
       "</style>\n",
       "<table border=\"1\" class=\"dataframe\">\n",
       "  <thead>\n",
       "    <tr style=\"text-align: right;\">\n",
       "      <th></th>\n",
       "      <th>antecedents</th>\n",
       "      <th>consequents</th>\n",
       "      <th>antecedent support</th>\n",
       "      <th>consequent support</th>\n",
       "      <th>support</th>\n",
       "      <th>confidence</th>\n",
       "      <th>lift</th>\n",
       "      <th>leverage</th>\n",
       "      <th>conviction</th>\n",
       "    </tr>\n",
       "  </thead>\n",
       "  <tbody>\n",
       "    <tr>\n",
       "      <th>1730</th>\n",
       "      <td>(RefBks, ItalArt)</td>\n",
       "      <td>(ArtBks, ItalAtlas)</td>\n",
       "      <td>0.0200</td>\n",
       "      <td>0.0180</td>\n",
       "      <td>0.0165</td>\n",
       "      <td>0.825000</td>\n",
       "      <td>45.833333</td>\n",
       "      <td>0.016140</td>\n",
       "      <td>5.611429</td>\n",
       "    </tr>\n",
       "    <tr>\n",
       "      <th>1735</th>\n",
       "      <td>(ArtBks, ItalAtlas)</td>\n",
       "      <td>(RefBks, ItalArt)</td>\n",
       "      <td>0.0180</td>\n",
       "      <td>0.0200</td>\n",
       "      <td>0.0165</td>\n",
       "      <td>0.916667</td>\n",
       "      <td>45.833333</td>\n",
       "      <td>0.016140</td>\n",
       "      <td>11.760000</td>\n",
       "    </tr>\n",
       "    <tr>\n",
       "      <th>4174</th>\n",
       "      <td>(RefBks, ItalArt)</td>\n",
       "      <td>(Florence, ItalAtlas)</td>\n",
       "      <td>0.0200</td>\n",
       "      <td>0.0065</td>\n",
       "      <td>0.0040</td>\n",
       "      <td>0.200000</td>\n",
       "      <td>30.769231</td>\n",
       "      <td>0.003870</td>\n",
       "      <td>1.241875</td>\n",
       "    </tr>\n",
       "    <tr>\n",
       "      <th>4171</th>\n",
       "      <td>(Florence, ItalAtlas)</td>\n",
       "      <td>(RefBks, ItalArt)</td>\n",
       "      <td>0.0065</td>\n",
       "      <td>0.0200</td>\n",
       "      <td>0.0040</td>\n",
       "      <td>0.615385</td>\n",
       "      <td>30.769231</td>\n",
       "      <td>0.003870</td>\n",
       "      <td>2.548000</td>\n",
       "    </tr>\n",
       "    <tr>\n",
       "      <th>2694</th>\n",
       "      <td>(RefBks, ItalArt)</td>\n",
       "      <td>(ItalAtlas, GeogBks)</td>\n",
       "      <td>0.0200</td>\n",
       "      <td>0.0205</td>\n",
       "      <td>0.0115</td>\n",
       "      <td>0.575000</td>\n",
       "      <td>28.048780</td>\n",
       "      <td>0.011090</td>\n",
       "      <td>2.304706</td>\n",
       "    </tr>\n",
       "    <tr>\n",
       "      <th>...</th>\n",
       "      <td>...</td>\n",
       "      <td>...</td>\n",
       "      <td>...</td>\n",
       "      <td>...</td>\n",
       "      <td>...</td>\n",
       "      <td>...</td>\n",
       "      <td>...</td>\n",
       "      <td>...</td>\n",
       "      <td>...</td>\n",
       "    </tr>\n",
       "    <tr>\n",
       "      <th>3886</th>\n",
       "      <td>(RefBks, Florence, ItalAtlas)</td>\n",
       "      <td>(ChildBks)</td>\n",
       "      <td>0.0065</td>\n",
       "      <td>0.4230</td>\n",
       "      <td>0.0055</td>\n",
       "      <td>0.846154</td>\n",
       "      <td>2.000364</td>\n",
       "      <td>0.002750</td>\n",
       "      <td>3.750500</td>\n",
       "    </tr>\n",
       "    <tr>\n",
       "      <th>346</th>\n",
       "      <td>(ArtBks, GeogBks, YouthBks)</td>\n",
       "      <td>(ChildBks)</td>\n",
       "      <td>0.0650</td>\n",
       "      <td>0.4230</td>\n",
       "      <td>0.0550</td>\n",
       "      <td>0.846154</td>\n",
       "      <td>2.000364</td>\n",
       "      <td>0.027505</td>\n",
       "      <td>3.750500</td>\n",
       "    </tr>\n",
       "    <tr>\n",
       "      <th>3956</th>\n",
       "      <td>(ChildBks)</td>\n",
       "      <td>(Florence, ItalAtlas)</td>\n",
       "      <td>0.4230</td>\n",
       "      <td>0.0065</td>\n",
       "      <td>0.0055</td>\n",
       "      <td>0.013002</td>\n",
       "      <td>2.000364</td>\n",
       "      <td>0.002750</td>\n",
       "      <td>1.006588</td>\n",
       "    </tr>\n",
       "    <tr>\n",
       "      <th>355</th>\n",
       "      <td>(ChildBks)</td>\n",
       "      <td>(ArtBks, GeogBks, YouthBks)</td>\n",
       "      <td>0.4230</td>\n",
       "      <td>0.0650</td>\n",
       "      <td>0.0550</td>\n",
       "      <td>0.130024</td>\n",
       "      <td>2.000364</td>\n",
       "      <td>0.027505</td>\n",
       "      <td>1.074742</td>\n",
       "    </tr>\n",
       "    <tr>\n",
       "      <th>3955</th>\n",
       "      <td>(Florence, ItalAtlas)</td>\n",
       "      <td>(ChildBks)</td>\n",
       "      <td>0.0065</td>\n",
       "      <td>0.4230</td>\n",
       "      <td>0.0055</td>\n",
       "      <td>0.846154</td>\n",
       "      <td>2.000364</td>\n",
       "      <td>0.002750</td>\n",
       "      <td>3.750500</td>\n",
       "    </tr>\n",
       "  </tbody>\n",
       "</table>\n",
       "<p>4448 rows × 9 columns</p>\n",
       "</div>"
      ],
      "text/plain": [
       "                        antecedents                  consequents  \\\n",
       "1730              (RefBks, ItalArt)          (ArtBks, ItalAtlas)   \n",
       "1735            (ArtBks, ItalAtlas)            (RefBks, ItalArt)   \n",
       "4174              (RefBks, ItalArt)        (Florence, ItalAtlas)   \n",
       "4171          (Florence, ItalAtlas)            (RefBks, ItalArt)   \n",
       "2694              (RefBks, ItalArt)         (ItalAtlas, GeogBks)   \n",
       "...                             ...                          ...   \n",
       "3886  (RefBks, Florence, ItalAtlas)                   (ChildBks)   \n",
       "346     (ArtBks, GeogBks, YouthBks)                   (ChildBks)   \n",
       "3956                     (ChildBks)        (Florence, ItalAtlas)   \n",
       "355                      (ChildBks)  (ArtBks, GeogBks, YouthBks)   \n",
       "3955          (Florence, ItalAtlas)                   (ChildBks)   \n",
       "\n",
       "      antecedent support  consequent support  support  confidence       lift  \\\n",
       "1730              0.0200              0.0180   0.0165    0.825000  45.833333   \n",
       "1735              0.0180              0.0200   0.0165    0.916667  45.833333   \n",
       "4174              0.0200              0.0065   0.0040    0.200000  30.769231   \n",
       "4171              0.0065              0.0200   0.0040    0.615385  30.769231   \n",
       "2694              0.0200              0.0205   0.0115    0.575000  28.048780   \n",
       "...                  ...                 ...      ...         ...        ...   \n",
       "3886              0.0065              0.4230   0.0055    0.846154   2.000364   \n",
       "346               0.0650              0.4230   0.0550    0.846154   2.000364   \n",
       "3956              0.4230              0.0065   0.0055    0.013002   2.000364   \n",
       "355               0.4230              0.0650   0.0550    0.130024   2.000364   \n",
       "3955              0.0065              0.4230   0.0055    0.846154   2.000364   \n",
       "\n",
       "      leverage  conviction  \n",
       "1730  0.016140    5.611429  \n",
       "1735  0.016140   11.760000  \n",
       "4174  0.003870    1.241875  \n",
       "4171  0.003870    2.548000  \n",
       "2694  0.011090    2.304706  \n",
       "...        ...         ...  \n",
       "3886  0.002750    3.750500  \n",
       "346   0.027505    3.750500  \n",
       "3956  0.002750    1.006588  \n",
       "355   0.027505    1.074742  \n",
       "3955  0.002750    3.750500  \n",
       "\n",
       "[4448 rows x 9 columns]"
      ]
     },
     "execution_count": 94,
     "metadata": {},
     "output_type": "execute_result"
    }
   ],
   "source": [
    "rules1 = association_rules(Book_Sales1, metric=\"lift\", min_threshold=2)\n",
    "rules1.sort_values('lift',ascending = False,inplace=True)\n",
    "rules1"
   ]
  },
  {
   "cell_type": "code",
   "execution_count": 95,
   "metadata": {},
   "outputs": [
    {
     "data": {
      "image/png": "[encoded data removed]",
      "text/plain": [
       "<Figure size 432x288 with 1 Axes>"
      ]
     },
     "metadata": {
      "needs_background": "light"
     },
     "output_type": "display_data"
    }
   ],
   "source": [
    "sns.scatterplot(x=rules1['support'],y=rules1['confidence'], data=rules1)\n",
    "plt.title(\"Association Rule\")\n",
    "plt.show()"
   ]
  },
  {
   "cell_type": "code",
   "execution_count": 96,
   "metadata": {},
   "outputs": [
    {
     "data": {
      "image/png": "[encoded data removed]",
      "text/plain": [
       "<Figure size 432x432 with 2 Axes>"
      ]
     },
     "metadata": {
      "needs_background": "light"
     },
     "output_type": "display_data"
    }
   ],
   "source": [
    "A1 = rules1.antecedents.iloc[0:10]\n",
    "B1 = rules1.consequents.iloc[0:10]\n",
    "C1 = rules1.lift.iloc[0:10]\n",
    "\n",
    "# abovecode give frozen set error so change A & B:\n",
    "\n",
    "A1 = A1.apply(lambda x: list(x)[0]).astype(\"unicode\")\n",
    "B1 = B1.apply(lambda x: list(x)[0]).astype(\"unicode\")\n",
    "\n",
    "# plot figure against lift for top 10 'lift' value\n",
    "fig = plt.figure(figsize=(6,6))\n",
    "ax = plt.subplot(111)\n",
    "sc1 = plt.scatter(A1,B1, s = 200, c=C1, cmap=plt.cm.jet)\n",
    "cbar = fig.colorbar(sc1, orientation='vertical')    \n",
    "plt.xticks(rotation=90)\n",
    "plt.xlabel(\"antecedents\")\n",
    "plt.ylabel(\"consequents\")\n",
    "plt.show()"
   ]
  },
  {
   "cell_type": "code",
   "execution_count": null,
   "metadata": {},
   "outputs": [],
   "source": []
  }
 ],
 "metadata": {
  "kernelspec": {
   "display_name": "Python 3",
   "language": "python",
   "name": "python3"
  },
  "language_info": {
   "codemirror_mode": {
    "name": "ipython",
    "version": 3
   },
   "file_extension": ".py",
   "mimetype": "text/x-python",
   "name": "python",
   "nbconvert_exporter": "python",
   "pygments_lexer": "ipython3",
   "version": "3.7.6"
  }
 },
 "nbformat": 4,
 "nbformat_minor": 4
}
